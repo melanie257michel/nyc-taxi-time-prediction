{
 "cells": [
  {
   "metadata": {
    "ExecuteTime": {
     "end_time": "2024-09-18T03:49:48.446232Z",
     "start_time": "2024-09-18T03:49:47.323252Z"
    }
   },
   "cell_type": "code",
   "source": [
    "# Create the directory if it doesn't exist\n",
    "!mkdir -p ../data\n",
    "\n",
    "# Download files using curl\n",
    "!curl -o ../data/green_tripdata_2024-01.parquet https://d37ci6vzurychx.cloudfront.net/trip-data/green_tripdata_2024-01.parquet\n",
    "!curl -o ../data/green_tripdata_2024-02.parquet https://d37ci6vzurychx.cloudfront.net/trip-data/green_tripdata_2024-02.parquet"
   ],
   "id": "d1498095382c3100",
   "outputs": [
    {
     "name": "stderr",
     "output_type": "stream",
     "text": [
      "La sintaxis del comando no es correcta.\n",
      "  % Total    % Received % Xferd  Average Speed   Time    Time     Time  Current\n",
      "                                 Dload  Upload   Total   Spent    Left  Speed\n",
      "\n",
      "  0     0    0     0    0     0      0      0 --:--:-- --:--:-- --:--:--     0\n",
      "100 1330k  100 1330k    0     0  2566k      0 --:--:-- --:--:-- --:--:-- 2578k\n",
      "  % Total    % Received % Xferd  Average Speed   Time    Time     Time  Current\n",
      "                                 Dload  Upload   Total   Spent    Left  Speed\n",
      "\n",
      "  0     0    0     0    0     0      0      0 --:--:-- --:--:-- --:--:--     0\n",
      "  2 1253k    2 32232    0     0   202k      0  0:00:06 --:--:--  0:00:06  205k\n",
      "100 1253k  100 1253k    0     0  2859k      0 --:--:-- --:--:-- --:--:-- 2875k\n"
     ]
    }
   ],
   "execution_count": 19
  },
  {
   "metadata": {
    "ExecuteTime": {
     "end_time": "2024-09-18T03:51:27.433694Z",
     "start_time": "2024-09-18T03:51:25.078539Z"
    }
   },
   "cell_type": "code",
   "source": [
    "import os\n",
    "import requests\n",
    "\n",
    "# Crear la carpeta si no existe\n",
    "os.makedirs('../data', exist_ok=True)\n",
    "\n",
    "# Descargar los archivos usando requests\n",
    "url_1 = 'https://d37ci6vzurychx.cloudfront.net/trip-data/green_tripdata_2024-01.parquet'\n",
    "url_2 = 'https://d37ci6vzurychx.cloudfront.net/trip-data/green_tripdata_2024-02.parquet'\n",
    "\n",
    "# Definir la función de descarga\n",
    "def download_file(url, folder):\n",
    "    local_filename = os.path.join(folder, url.split('/')[-1])\n",
    "    with requests.get(url, stream=True) as r:\n",
    "        r.raise_for_status()\n",
    "        with open(local_filename, 'wb') as f:\n",
    "            for chunk in r.iter_content(chunk_size=8192):\n",
    "                f.write(chunk)\n",
    "    print(f\"Downloaded {local_filename}\")\n",
    "\n",
    "# Descargar los archivos\n",
    "download_file(url_1, '../data')\n",
    "download_file(url_2, '../data')"
   ],
   "id": "6811b08c95c9e0f",
   "outputs": [
    {
     "name": "stdout",
     "output_type": "stream",
     "text": [
      "Downloaded ../data\\green_tripdata_2024-01.parquet\n",
      "Downloaded ../data\\green_tripdata_2024-02.parquet\n"
     ]
    }
   ],
   "execution_count": 20
  },
  {
   "metadata": {
    "ExecuteTime": {
     "end_time": "2024-09-18T03:58:42.983823Z",
     "start_time": "2024-09-18T03:58:40.139866Z"
    }
   },
   "cell_type": "code",
   "source": [
    "import pickle\n",
    "import pandas as pd\n",
    "from sklearn.metrics import  mean_squared_error\n",
    "from sklearn.feature_extraction import  DictVectorizer\n",
    "from sklearn.linear_model import Lasso, Ridge, LinearRegression"
   ],
   "id": "d6cb0d1fbd40e454",
   "outputs": [],
   "execution_count": 1
  },
  {
   "metadata": {
    "ExecuteTime": {
     "end_time": "2024-09-18T03:58:42.996524Z",
     "start_time": "2024-09-18T03:58:42.983823Z"
    }
   },
   "cell_type": "code",
   "source": [
    "def read_dataframe(filename):\n",
    "\n",
    "    df = pd.read_parquet(filename)\n",
    "\n",
    "    df['duration'] = df.lpep_dropoff_datetime - df.lpep_pickup_datetime\n",
    "    df.duration = df.duration.apply(lambda td: td.total_seconds() / 60)\n",
    "\n",
    "    df = df[(df.duration >= 1) & (df.duration <= 60)]\n",
    "\n",
    "    categorical = ['PULocationID', 'DOLocationID']\n",
    "    df[categorical] = df[categorical].astype(str)\n",
    "\n",
    "    return df"
   ],
   "id": "f01a115dce6fb62a",
   "outputs": [],
   "execution_count": 2
  },
  {
   "metadata": {
    "ExecuteTime": {
     "end_time": "2024-09-18T03:58:43.675278Z",
     "start_time": "2024-09-18T03:58:42.996524Z"
    }
   },
   "cell_type": "code",
   "source": [
    "df_train = read_dataframe('../data/green_tripdata_2024-01.parquet')\n",
    "df_val = read_dataframe('../data/green_tripdata_2024-02.parquet')"
   ],
   "id": "c547c1aa1890b6c7",
   "outputs": [],
   "execution_count": 3
  },
  {
   "metadata": {
    "ExecuteTime": {
     "end_time": "2024-09-18T03:58:43.702090Z",
     "start_time": "2024-09-18T03:58:43.675278Z"
    }
   },
   "cell_type": "code",
   "source": [
    "# Feature Engineering\n",
    "\n",
    "df_train['PU_DO'] = df_train['PULocationID'] + '_' + df_train['DOLocationID']\n",
    "df_val['PU_DO'] = df_val['PULocationID'] + '_' + df_val['DOLocationID']"
   ],
   "id": "cd2cbb4d7dcb8cd9",
   "outputs": [],
   "execution_count": 4
  },
  {
   "metadata": {
    "ExecuteTime": {
     "end_time": "2024-09-18T03:58:44.285299Z",
     "start_time": "2024-09-18T03:58:43.702090Z"
    }
   },
   "cell_type": "code",
   "source": [
    "# One Hot Encoding \n",
    "\n",
    "categorical = ['PU_DO']  #'PULocationID', 'DOLocationID']\n",
    "numerical = ['trip_distance']\n",
    "dv = DictVectorizer()\n",
    "\n",
    "train_dicts = df_train[categorical + numerical].to_dict(orient='records')\n",
    "X_train = dv.fit_transform(train_dicts)\n",
    "\n",
    "val_dicts = df_val[categorical + numerical].to_dict(orient='records')\n",
    "X_val = dv.transform(val_dicts)"
   ],
   "id": "81f70991755a81a7",
   "outputs": [],
   "execution_count": 5
  },
  {
   "metadata": {
    "ExecuteTime": {
     "end_time": "2024-09-18T03:58:44.292607Z",
     "start_time": "2024-09-18T03:58:44.285299Z"
    }
   },
   "cell_type": "code",
   "source": [
    "target = 'duration'\n",
    "y_train = df_train[target].values\n",
    "y_val = df_val[target].values"
   ],
   "id": "606e890cbe7a1b6a",
   "outputs": [],
   "execution_count": 6
  },
  {
   "metadata": {
    "ExecuteTime": {
     "end_time": "2024-09-18T03:58:48.419063Z",
     "start_time": "2024-09-18T03:58:46.960314Z"
    }
   },
   "cell_type": "code",
   "source": [
    "## Definir el tracking URI y el nombre del experimento \n",
    "\n",
    "import dagshub\n",
    "import mlflow\n",
    "\n",
    "\n",
    "dagshub.init(url=\"https://github.com/melanie257michel/nyc-taxi-time-prediction.git\", mlflow=True)\n",
    "\n",
    "MLFLOW_TRACKING_URI = mlflow.get_tracking_uri()\n",
    "\n",
    "print(MLFLOW_TRACKING_URI)\n",
    "\n",
    "mlflow.set_tracking_uri(MLFLOW_TRACKING_URI)\n",
    "mlflow.set_experiment(experiment_name=\"nyc-taxi-experiment\")"
   ],
   "id": "800fe7fc6fbf3b88",
   "outputs": [
    {
     "ename": "ModuleNotFoundError",
     "evalue": "No module named 'dagshub'",
     "output_type": "error",
     "traceback": [
      "\u001B[1;31m---------------------------------------------------------------------------\u001B[0m",
      "\u001B[1;31mModuleNotFoundError\u001B[0m                       Traceback (most recent call last)",
      "Cell \u001B[1;32mIn[7], line 3\u001B[0m\n\u001B[0;32m      1\u001B[0m \u001B[38;5;66;03m## Definir el tracking URI y el nombre del experimento \u001B[39;00m\n\u001B[1;32m----> 3\u001B[0m \u001B[38;5;28;01mimport\u001B[39;00m \u001B[38;5;21;01mdagshub\u001B[39;00m\n\u001B[0;32m      4\u001B[0m \u001B[38;5;28;01mimport\u001B[39;00m \u001B[38;5;21;01mmlflow\u001B[39;00m\n\u001B[0;32m      7\u001B[0m dagshub\u001B[38;5;241m.\u001B[39minit(url\u001B[38;5;241m=\u001B[39m\u001B[38;5;124m\"\u001B[39m\u001B[38;5;124mhttps://github.com/melanie257michel/nyc-taxi-time-prediction.git\u001B[39m\u001B[38;5;124m\"\u001B[39m, mlflow\u001B[38;5;241m=\u001B[39m\u001B[38;5;28;01mTrue\u001B[39;00m)\n",
      "\u001B[1;31mModuleNotFoundError\u001B[0m: No module named 'dagshub'"
     ]
    }
   ],
   "execution_count": 7
  },
  {
   "metadata": {},
   "cell_type": "code",
   "source": [
    "# codigo sacado de dagshub, sube el archivo y como descargarlo en ese storage remoto \n",
    "\n",
    "from dagshub import get_repo_bucket_client\n",
    "# Get a boto3.client object\n",
    "s3 = get_repo_bucket_client(\"melanie257michel/nyc-taxi-time-prediction\")\n",
    "\n",
    "# Upload file train\n",
    "s3.upload_file(\n",
    "    Bucket=\"nyc-taxi-time-prediction\",  # name of the repo\n",
    "    Filename=\"../data/green_tripdata_2024_01.parquet\",  # local path of file to upload\n",
    "    Key=\"train_data.parquet\",  # remote path where to upload the file\n",
    ")\n",
    "\n",
    "\n",
    "# Upload file evaluation \n",
    "s3.upload_file(\n",
    "    Bucket=\"nyc-taxi-time-prediction\",  # name of the repo\n",
    "    Filename=\"../data/green_tripdata_2024_02.parquet\",  # local path of file to upload\n",
    "    Key=\"eval_data.parquet\",  # remote path where to upload the file\n",
    ")"
   ],
   "id": "d2af0d67e4c65025",
   "outputs": [],
   "execution_count": null
  },
  {
   "metadata": {},
   "cell_type": "code",
   "source": [
    "training_dataset = mlflow.data.from_numpy(X_train.data, targets=y_train, name=\"green_tripdata_2024-01\")\n",
    "validation_dataset = mlflow.data.from_numpy(X_val.data, targets=y_val, name=\"green_tripdata_2024-02\")"
   ],
   "id": "db3148f38eff728",
   "outputs": [],
   "execution_count": null
  },
  {
   "metadata": {},
   "cell_type": "code",
   "source": [
    "import xgboost as xgb\n",
    "from hyperopt import fmin, tpe, hp, STATUS_OK, Trials\n",
    "from hyperopt.pyll import scope\n",
    "import pathlib"
   ],
   "id": "6f37f9226136912a",
   "outputs": [],
   "execution_count": null
  },
  {
   "metadata": {},
   "cell_type": "code",
   "source": [
    "train = xgb.DMatrix(X_train, label=y_train)\n",
    "valid = xgb.DMatrix(X_val, label=y_val)"
   ],
   "id": "5cc2416a6300d2f3",
   "outputs": [],
   "execution_count": null
  },
  {
   "metadata": {},
   "cell_type": "code",
   "source": [
    "def objective(params):\n",
    "    with mlflow.start_run(nested=True):\n",
    "         \n",
    "        # Tag model\n",
    "        mlflow.set_tag(\"model_family\", \"xgboost\")\n",
    "        \n",
    "        # Log parameters\n",
    "        mlflow.log_params(params)\n",
    "        \n",
    "        # Train model\n",
    "        booster = xgb.train(\n",
    "            params=params,\n",
    "            dtrain=train,\n",
    "            num_boost_round=100,\n",
    "            evals=[(valid, 'validation')],\n",
    "            early_stopping_rounds=10\n",
    "        )\n",
    "        \n",
    "        # Log xgboost model with artifact_path\n",
    "        mlflow.xgboost.log_model(booster, artifact_path=\"model\")\n",
    "         \n",
    "        # Predict in the val dataset\n",
    "        y_pred = booster.predict(valid)\n",
    "        \n",
    "        # Calculate metric\n",
    "        rmse = root_mean_squared_error(y_val, y_pred)\n",
    "        \n",
    "        # Log performance metric\n",
    "        mlflow.log_metric(\"rmse\", rmse)\n",
    "\n",
    "    return {'loss': rmse, 'status': STATUS_OK}"
   ],
   "id": "a7a91b5b6d4a39d0",
   "outputs": [],
   "execution_count": null
  },
  {
   "metadata": {},
   "cell_type": "code",
   "source": [
    "\n",
    "\n"
   ],
   "id": "12de477d688fea31",
   "outputs": [],
   "execution_count": null
  }
 ],
 "metadata": {
  "kernelspec": {
   "display_name": "Python 3",
   "language": "python",
   "name": "python3"
  },
  "language_info": {
   "codemirror_mode": {
    "name": "ipython",
    "version": 2
   },
   "file_extension": ".py",
   "mimetype": "text/x-python",
   "name": "python",
   "nbconvert_exporter": "python",
   "pygments_lexer": "ipython2",
   "version": "2.7.6"
  }
 },
 "nbformat": 4,
 "nbformat_minor": 5
}
